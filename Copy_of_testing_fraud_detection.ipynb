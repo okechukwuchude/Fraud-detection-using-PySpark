{
  "cells": [
    {
      "cell_type": "markdown",
      "metadata": {
        "id": "view-in-github",
        "colab_type": "text"
      },
      "source": [
        "<a href=\"https://colab.research.google.com/github/okechukwuchude/Fraud-detection-using-PySpark/blob/main/Copy_of_testing_fraud_detection.ipynb\" target=\"_parent\"><img src=\"https://colab.research.google.com/assets/colab-badge.svg\" alt=\"Open In Colab\"/></a>"
      ]
    },
    {
      "cell_type": "code",
      "execution_count": null,
      "metadata": {
        "id": "Os2Lo09P-7t7"
      },
      "outputs": [],
      "source": [
        "!apt-get install openjdk-8-jdk-headless -qq > /dev/null\n",
        "!wget -q http://archive.apache.org/dist/spark/spark-3.1.1/spark-3.1.1-bin-hadoop3.2.tgz\n",
        "!tar xf spark-3.1.1-bin-hadoop3.2.tgz"
      ]
    },
    {
      "cell_type": "code",
      "execution_count": null,
      "metadata": {
        "id": "kp2_CFG6_OMg"
      },
      "outputs": [],
      "source": [
        "import os\n",
        "os.environ[\"JAVA_HOME\"] = \"/usr/lib/jvm/java-8-openjdk-amd64\"\n",
        "os.environ[\"SPARK_HOME\"] = \"/content/spark-3.1.1-bin-hadoop3.2\""
      ]
    },
    {
      "cell_type": "code",
      "execution_count": null,
      "metadata": {
        "colab": {
          "base_uri": "https://localhost:8080/"
        },
        "id": "p13GgOD9n7Z1",
        "outputId": "8aacccac-1977-442f-a3d3-1fe14e9e5629"
      },
      "outputs": [
        {
          "output_type": "stream",
          "name": "stdout",
          "text": [
            "Collecting findspark\n",
            "  Downloading findspark-2.0.1-py2.py3-none-any.whl (4.4 kB)\n",
            "Installing collected packages: findspark\n",
            "Successfully installed findspark-2.0.1\n"
          ]
        }
      ],
      "source": [
        "pip install findspark"
      ]
    },
    {
      "cell_type": "code",
      "execution_count": null,
      "metadata": {
        "colab": {
          "base_uri": "https://localhost:8080/",
          "height": 36
        },
        "id": "5J7Wpz1qnMWM",
        "outputId": "4dee07aa-9d80-47f2-fedc-42e62d427ddb"
      },
      "outputs": [
        {
          "output_type": "execute_result",
          "data": {
            "text/plain": [
              "'/content/spark-3.1.1-bin-hadoop3.2'"
            ],
            "application/vnd.google.colaboratory.intrinsic+json": {
              "type": "string"
            }
          },
          "metadata": {},
          "execution_count": 6
        }
      ],
      "source": [
        "import findspark\n",
        "findspark.init()\n",
        "findspark.find()"
      ]
    },
    {
      "cell_type": "code",
      "execution_count": null,
      "metadata": {
        "colab": {
          "base_uri": "https://localhost:8080/"
        },
        "id": "GqmnydGLm8QF",
        "outputId": "bb4263b3-545b-4ecb-d1f7-45276cc61a46"
      },
      "outputs": [
        {
          "output_type": "stream",
          "name": "stdout",
          "text": [
            "Collecting pyspark\n",
            "  Downloading pyspark-3.4.1.tar.gz (310.8 MB)\n",
            "\u001b[2K     \u001b[90m━━━━━━━━━━━━━━━━━━━━━━━━━━━━━━━━━━━━━━━\u001b[0m \u001b[32m310.8/310.8 MB\u001b[0m \u001b[31m4.1 MB/s\u001b[0m eta \u001b[36m0:00:00\u001b[0m\n",
            "\u001b[?25h  Preparing metadata (setup.py) ... \u001b[?25l\u001b[?25hdone\n",
            "Requirement already satisfied: py4j==0.10.9.7 in /usr/local/lib/python3.10/dist-packages (from pyspark) (0.10.9.7)\n",
            "Building wheels for collected packages: pyspark\n",
            "  Building wheel for pyspark (setup.py) ... \u001b[?25l\u001b[?25hdone\n",
            "  Created wheel for pyspark: filename=pyspark-3.4.1-py2.py3-none-any.whl size=311285388 sha256=0076ef9b0acc6557e453f50831fab77aaa8e53ee0f7db3a906815b0d500f0fd1\n",
            "  Stored in directory: /root/.cache/pip/wheels/0d/77/a3/ff2f74cc9ab41f8f594dabf0579c2a7c6de920d584206e0834\n",
            "Successfully built pyspark\n",
            "Installing collected packages: pyspark\n",
            "Successfully installed pyspark-3.4.1\n"
          ]
        }
      ],
      "source": [
        "pip install pyspark"
      ]
    },
    {
      "cell_type": "code",
      "execution_count": null,
      "metadata": {
        "id": "a2H7AG5Rn4Aw"
      },
      "outputs": [],
      "source": [
        "from pyspark import SparkContext, SparkConf\n",
        "from pyspark.sql import SQLContext\n",
        "from pyspark.sql import SparkSession\n",
        "\n",
        "from pyspark.sql.functions import udf\n",
        "from pyspark.sql.types import StringType\n",
        "import pyspark.sql.functions as F\n",
        "\n",
        "from pyspark.ml.feature import VectorSlicer, VectorAssembler"
      ]
    },
    {
      "cell_type": "code",
      "execution_count": null,
      "metadata": {
        "id": "slgZVDzsoFy5"
      },
      "outputs": [],
      "source": [
        "#sc = SparkContext(appName=\"finicial fraud detection\")\n",
        "#sqlc = SQLContext(sc)"
      ]
    },
    {
      "cell_type": "code",
      "execution_count": null,
      "metadata": {
        "id": "99JQCBkRTFf7"
      },
      "outputs": [],
      "source": [
        "spark = SparkSession.builder \\\n",
        "    .appName(\"FinancialFraudDetection\") \\\n",
        "    .config(\"spark.kryoserializer.buffer.max\", \"512m\") \\\n",
        "    .getOrCreate()"
      ]
    },
    {
      "cell_type": "code",
      "execution_count": null,
      "metadata": {
        "colab": {
          "base_uri": "https://localhost:8080/"
        },
        "id": "sJPU8J46CF34",
        "outputId": "167b3105-7818-4004-cece-067f59773fcb"
      },
      "outputs": [
        {
          "output_type": "stream",
          "name": "stdout",
          "text": [
            "Mounted at /content/drive\n"
          ]
        }
      ],
      "source": [
        "from google.colab import drive\n",
        "drive.mount('/content/drive')"
      ]
    },
    {
      "cell_type": "code",
      "execution_count": null,
      "metadata": {
        "id": "p6-OOkrahzvP"
      },
      "outputs": [],
      "source": [
        "data = spark.read.csv('/content/drive/MyDrive/Colab Notebooks/Synthetic Financial Datasets.csv',header = True)\n"
      ]
    },
    {
      "cell_type": "code",
      "execution_count": null,
      "metadata": {
        "colab": {
          "base_uri": "https://localhost:8080/"
        },
        "id": "rBPVFOLCh4i1",
        "outputId": "fdf683b1-4787-429a-e543-535cea0efe22"
      },
      "outputs": [
        {
          "output_type": "stream",
          "name": "stdout",
          "text": [
            "root\n",
            " |-- step: string (nullable = true)\n",
            " |-- type: string (nullable = true)\n",
            " |-- amount: string (nullable = true)\n",
            " |-- nameOrig: string (nullable = true)\n",
            " |-- oldbalanceOrg: string (nullable = true)\n",
            " |-- newbalanceOrig: string (nullable = true)\n",
            " |-- nameDest: string (nullable = true)\n",
            " |-- oldbalanceDest: string (nullable = true)\n",
            " |-- newbalanceDest: string (nullable = true)\n",
            " |-- isFraud: string (nullable = true)\n",
            " |-- isFlaggedFraud: string (nullable = true)\n",
            "\n"
          ]
        }
      ],
      "source": [
        "data.printSchema()"
      ]
    },
    {
      "cell_type": "code",
      "execution_count": null,
      "metadata": {
        "id": "tP2YZNsIoIb9"
      },
      "outputs": [],
      "source": [
        "data = spark.read.csv('/content/drive/MyDrive/Colab Notebooks/Synthetic Financial Datasets.csv',inferSchema=True,header = True)\n"
      ]
    },
    {
      "cell_type": "code",
      "execution_count": null,
      "metadata": {
        "colab": {
          "base_uri": "https://localhost:8080/"
        },
        "id": "yqCv2E96fpDK",
        "outputId": "a45c316c-3f6a-4a27-f9cf-f7e040a2c23a"
      },
      "outputs": [
        {
          "output_type": "stream",
          "name": "stdout",
          "text": [
            "root\n",
            " |-- step: integer (nullable = true)\n",
            " |-- type: string (nullable = true)\n",
            " |-- amount: double (nullable = true)\n",
            " |-- nameOrig: string (nullable = true)\n",
            " |-- oldbalanceOrg: double (nullable = true)\n",
            " |-- newbalanceOrig: double (nullable = true)\n",
            " |-- nameDest: string (nullable = true)\n",
            " |-- oldbalanceDest: double (nullable = true)\n",
            " |-- newbalanceDest: double (nullable = true)\n",
            " |-- isFraud: integer (nullable = true)\n",
            " |-- isFlaggedFraud: integer (nullable = true)\n",
            "\n"
          ]
        }
      ],
      "source": [
        "data.printSchema()"
      ]
    },
    {
      "cell_type": "code",
      "execution_count": null,
      "metadata": {
        "colab": {
          "base_uri": "https://localhost:8080/"
        },
        "id": "wCt5t9NDizlq",
        "outputId": "a37badba-5065-44e3-fe85-cf8b5fdcde6a"
      },
      "outputs": [
        {
          "output_type": "execute_result",
          "data": {
            "text/plain": [
              "[('step', 'int'),\n",
              " ('type', 'string'),\n",
              " ('amount', 'double'),\n",
              " ('nameOrig', 'string'),\n",
              " ('oldbalanceOrg', 'double'),\n",
              " ('newbalanceOrig', 'double'),\n",
              " ('nameDest', 'string'),\n",
              " ('oldbalanceDest', 'double'),\n",
              " ('newbalanceDest', 'double'),\n",
              " ('isFraud', 'int'),\n",
              " ('isFlaggedFraud', 'int')]"
            ]
          },
          "metadata": {},
          "execution_count": 16
        }
      ],
      "source": [
        "data.dtypes"
      ]
    },
    {
      "cell_type": "code",
      "execution_count": null,
      "metadata": {
        "colab": {
          "base_uri": "https://localhost:8080/"
        },
        "id": "or70ZYlWokxO",
        "outputId": "1625d5a3-412a-46c9-f3d9-bb98b29c4c2d"
      },
      "outputs": [
        {
          "output_type": "execute_result",
          "data": {
            "text/plain": [
              "6362620"
            ]
          },
          "metadata": {},
          "execution_count": 17
        }
      ],
      "source": [
        "data.count()"
      ]
    },
    {
      "cell_type": "code",
      "execution_count": null,
      "metadata": {
        "colab": {
          "base_uri": "https://localhost:8080/"
        },
        "id": "FeXCbjemMmZ5",
        "outputId": "40faa627-8cf0-4147-90e4-d2892fae91d0"
      },
      "outputs": [
        {
          "output_type": "stream",
          "name": "stdout",
          "text": [
            "+-------+-------+\n",
            "|isFraud|  count|\n",
            "+-------+-------+\n",
            "|      1|   8213|\n",
            "|      0|6354407|\n",
            "+-------+-------+\n",
            "\n"
          ]
        }
      ],
      "source": [
        "data.groupBy('isFraud').count().show()\n"
      ]
    },
    {
      "cell_type": "code",
      "execution_count": null,
      "metadata": {
        "colab": {
          "base_uri": "https://localhost:8080/"
        },
        "id": "NFDH29mROBmb",
        "outputId": "54dc9b59-ec34-4c23-c44d-1b914af265ef"
      },
      "outputs": [
        {
          "output_type": "stream",
          "name": "stdout",
          "text": [
            "+----+--------+--------+-----------+-------------+--------------+-----------+--------------+--------------+-------+--------------+\n",
            "|step|type    |amount  |nameOrig   |oldbalanceOrg|newbalanceOrig|nameDest   |oldbalanceDest|newbalanceDest|isFraud|isFlaggedFraud|\n",
            "+----+--------+--------+-----------+-------------+--------------+-----------+--------------+--------------+-------+--------------+\n",
            "|1   |PAYMENT |9839.64 |C1231006815|170136.0     |160296.36     |M1979787155|0.0           |0.0           |0      |0             |\n",
            "|1   |PAYMENT |1864.28 |C1666544295|21249.0      |19384.72      |M2044282225|0.0           |0.0           |0      |0             |\n",
            "|1   |TRANSFER|181.0   |C1305486145|181.0        |0.0           |C553264065 |0.0           |0.0           |1      |0             |\n",
            "|1   |CASH_OUT|181.0   |C840083671 |181.0        |0.0           |C38997010  |21182.0       |0.0           |1      |0             |\n",
            "|1   |PAYMENT |11668.14|C2048537720|41554.0      |29885.86      |M1230701703|0.0           |0.0           |0      |0             |\n",
            "+----+--------+--------+-----------+-------------+--------------+-----------+--------------+--------------+-------+--------------+\n",
            "only showing top 5 rows\n",
            "\n"
          ]
        }
      ],
      "source": [
        "data.show(5,0)"
      ]
    },
    {
      "cell_type": "code",
      "execution_count": null,
      "metadata": {
        "colab": {
          "base_uri": "https://localhost:8080/"
        },
        "id": "ITfOoWXtPcpx",
        "outputId": "b7c69bc4-00ac-43c3-8bda-0ad143a8b564"
      },
      "outputs": [
        {
          "output_type": "stream",
          "name": "stdout",
          "text": [
            "+-------+-------+\n",
            "|isFraud|  count|\n",
            "+-------+-------+\n",
            "|      1|   8213|\n",
            "|      0|6354407|\n",
            "+-------+-------+\n",
            "\n"
          ]
        }
      ],
      "source": [
        "##show fraud vs non fraud\n",
        "data.groupBy('isFraud').count().show()"
      ]
    },
    {
      "cell_type": "code",
      "execution_count": null,
      "metadata": {
        "id": "sJ5qWWdz0zuX"
      },
      "outputs": [],
      "source": [
        "data = data.select(\"step\",\"type\", \"amount\", \"oldbalanceOrg\", \"newbalanceOrig\",\"oldbalanceDest\",\"newbalanceDest\", \"isFraud\")"
      ]
    },
    {
      "cell_type": "code",
      "execution_count": null,
      "metadata": {
        "colab": {
          "base_uri": "https://localhost:8080/"
        },
        "id": "cplo74yOsysG",
        "outputId": "ad12bc67-3583-44b9-b99b-2e4f884158b4"
      },
      "outputs": [
        {
          "output_type": "stream",
          "name": "stdout",
          "text": [
            "+----+----+------+-------------+--------------+--------------+--------------+-------+\n",
            "|step|type|amount|oldbalanceOrg|newbalanceOrig|oldbalanceDest|newbalanceDest|isFraud|\n",
            "+----+----+------+-------------+--------------+--------------+--------------+-------+\n",
            "|   0|   0|     0|            0|             0|             0|             0|      0|\n",
            "+----+----+------+-------------+--------------+--------------+--------------+-------+\n",
            "\n"
          ]
        }
      ],
      "source": [
        "### check if there is missing values in the data\n",
        "from pyspark.sql.functions import col,sum\n",
        "data.select(*(sum(col(c).isNull().cast(\"int\")).alias(c) for c in data.columns)).show()"
      ]
    },
    {
      "cell_type": "code",
      "execution_count": null,
      "metadata": {
        "colab": {
          "base_uri": "https://localhost:8080/"
        },
        "id": "wxgYkIW4umng",
        "outputId": "316107a2-b064-4fee-9a71-4dd7dfb124e7"
      },
      "outputs": [
        {
          "output_type": "stream",
          "name": "stdout",
          "text": [
            "+--------+-------+\n",
            "|    type|  count|\n",
            "+--------+-------+\n",
            "|TRANSFER| 528812|\n",
            "| CASH_IN|1399284|\n",
            "|CASH_OUT|2233384|\n",
            "| PAYMENT|2151495|\n",
            "|   DEBIT|  41432|\n",
            "+--------+-------+\n",
            "\n"
          ]
        }
      ],
      "source": [
        "frdtype = data.filter(data['isFraud'] == 0).groupby('type').count().show()\n"
      ]
    },
    {
      "cell_type": "code",
      "execution_count": null,
      "metadata": {
        "colab": {
          "base_uri": "https://localhost:8080/"
        },
        "id": "_eycXaXZtOmE",
        "outputId": "c031715e-3d8d-4d12-fc9b-d1f448880bc0"
      },
      "outputs": [
        {
          "output_type": "stream",
          "name": "stdout",
          "text": [
            "+--------+-----+\n",
            "|    type|count|\n",
            "+--------+-----+\n",
            "|TRANSFER| 4097|\n",
            "|CASH_OUT| 4116|\n",
            "+--------+-----+\n",
            "\n"
          ]
        }
      ],
      "source": [
        "## show which type of transaction is fraudulent\n",
        "frdtype = data.filter(data['isFraud'] == 1).groupby('type').count().show()\n"
      ]
    },
    {
      "cell_type": "code",
      "execution_count": null,
      "metadata": {
        "id": "2JQ1hBsVuwZD"
      },
      "outputs": [],
      "source": [
        "##show flagged vs non flagged\n",
        "#data.groupby('isFlaggedFraud').count().show()"
      ]
    },
    {
      "cell_type": "markdown",
      "metadata": {
        "id": "cdyYgFApLRW-"
      },
      "source": [
        "Handling Class Imbalance"
      ]
    },
    {
      "cell_type": "code",
      "execution_count": null,
      "metadata": {
        "colab": {
          "base_uri": "https://localhost:8080/"
        },
        "id": "CvgnYck7y_ml",
        "outputId": "1e8216b4-e939-4088-d5fc-2f73f8773080"
      },
      "outputs": [
        {
          "output_type": "stream",
          "name": "stdout",
          "text": [
            "ratio: 773\n"
          ]
        }
      ],
      "source": [
        "##getting the ratio\n",
        "major_df = data.filter(col(\"isFraud\") == 0)\n",
        "minor_df = data.filter(col(\"isFraud\") == 1)\n",
        "ratio = int(major_df.count()/minor_df.count())\n",
        "print(\"ratio: {}\".format(ratio))"
      ]
    },
    {
      "cell_type": "markdown",
      "metadata": {
        "id": "nhJPthvGLt0t"
      },
      "source": [
        "there are 773 non-fraudulent transactions for every fraudulent transaction"
      ]
    },
    {
      "cell_type": "code",
      "execution_count": null,
      "metadata": {
        "id": "xMc63P9ENapj"
      },
      "outputs": [],
      "source": [
        "from pyspark.sql.functions import explode, array, lit"
      ]
    },
    {
      "cell_type": "markdown",
      "metadata": {
        "id": "Uvqtr1TrO0S0"
      },
      "source": [
        "OverSampling"
      ]
    },
    {
      "cell_type": "code",
      "execution_count": null,
      "metadata": {
        "id": "RKEbDxZ-MerZ"
      },
      "outputs": [],
      "source": [
        "a = range(ratio)\n",
        "# duplicate the minority rows\n",
        "oversampled_df = minor_df.withColumn(\"dummy\", explode(array([lit(x) for x in a]))).drop('dummy')\n",
        "# combine both oversampled minority rows and previous majority rows\n",
        "os_combined_df = major_df.unionAll(oversampled_df)"
      ]
    },
    {
      "cell_type": "code",
      "execution_count": null,
      "metadata": {
        "colab": {
          "base_uri": "https://localhost:8080/"
        },
        "id": "CAFu2XjRNdqx",
        "outputId": "6fbb8054-56af-41c3-d732-c3231f3f6ae2"
      },
      "outputs": [
        {
          "output_type": "stream",
          "name": "stdout",
          "text": [
            "+-------+-------+\n",
            "|isFraud|  count|\n",
            "+-------+-------+\n",
            "|      1|6348649|\n",
            "|      0|6354407|\n",
            "+-------+-------+\n",
            "\n"
          ]
        }
      ],
      "source": [
        "##show fraud vs non fraud\n",
        "os_combined_df.groupBy('isFraud').count().show()"
      ]
    },
    {
      "cell_type": "markdown",
      "metadata": {
        "id": "lwO_qv5eOwMO"
      },
      "source": [
        "UnderSampling"
      ]
    },
    {
      "cell_type": "code",
      "execution_count": null,
      "metadata": {
        "id": "rWNWgN8fNskg"
      },
      "outputs": [],
      "source": [
        "sampled_majority_df = major_df.sample(False, 1/ratio)\n",
        "us_combined_df = sampled_majority_df.unionAll(minor_df)"
      ]
    },
    {
      "cell_type": "code",
      "execution_count": null,
      "metadata": {
        "colab": {
          "base_uri": "https://localhost:8080/"
        },
        "id": "_3bG-q4dOcGL",
        "outputId": "d6140786-5b7f-4237-9fc7-56302066f6cc"
      },
      "outputs": [
        {
          "output_type": "stream",
          "name": "stdout",
          "text": [
            "+-------+-----+\n",
            "|isFraud|count|\n",
            "+-------+-----+\n",
            "|      1| 8213|\n",
            "|      0| 8282|\n",
            "+-------+-----+\n",
            "\n"
          ]
        }
      ],
      "source": [
        "##show fraud vs non fraud\n",
        "us_combined_df.groupBy('isFraud').count().show()"
      ]
    },
    {
      "cell_type": "markdown",
      "source": [
        "Convert category to numeric"
      ],
      "metadata": {
        "id": "JInG2PUdRLPN"
      }
    },
    {
      "cell_type": "code",
      "source": [
        "from pyspark.ml.feature import StringIndexer, VectorAssembler, StandardScaler"
      ],
      "metadata": {
        "id": "9kWAsYrkdDE5"
      },
      "execution_count": null,
      "outputs": []
    },
    {
      "cell_type": "code",
      "source": [
        "index_data=StringIndexer(inputCols=[\"type\"],\n",
        "                                outputCols=[\"type_index\"])\n",
        "data_trans=index_data.fit(data).transform(data)\n",
        "data_trans.show(5)"
      ],
      "metadata": {
        "colab": {
          "base_uri": "https://localhost:8080/"
        },
        "id": "yS7Cg6gvdV4o",
        "outputId": "9f92a5e4-cf3b-450d-b58b-c338cea6dd5a"
      },
      "execution_count": null,
      "outputs": [
        {
          "output_type": "stream",
          "name": "stdout",
          "text": [
            "+----+--------+--------+-------------+--------------+--------------+--------------+-------+----------+\n",
            "|step|    type|  amount|oldbalanceOrg|newbalanceOrig|oldbalanceDest|newbalanceDest|isFraud|type_index|\n",
            "+----+--------+--------+-------------+--------------+--------------+--------------+-------+----------+\n",
            "|   1| PAYMENT| 9839.64|     170136.0|     160296.36|           0.0|           0.0|      0|       1.0|\n",
            "|   1| PAYMENT| 1864.28|      21249.0|      19384.72|           0.0|           0.0|      0|       1.0|\n",
            "|   1|TRANSFER|   181.0|        181.0|           0.0|           0.0|           0.0|      1|       3.0|\n",
            "|   1|CASH_OUT|   181.0|        181.0|           0.0|       21182.0|           0.0|      1|       0.0|\n",
            "|   1| PAYMENT|11668.14|      41554.0|      29885.86|           0.0|           0.0|      0|       1.0|\n",
            "+----+--------+--------+-------------+--------------+--------------+--------------+-------+----------+\n",
            "only showing top 5 rows\n",
            "\n"
          ]
        }
      ]
    },
    {
      "cell_type": "code",
      "source": [
        "data_Select=data_trans.select([\"step\", \"amount\", \"oldbalanceOrg\", \"newbalanceOrig\",\"oldbalanceDest\",\"newbalanceDest\",\n",
        "                               \"isFraud\", \"type_index\"])\n",
        "data_Select.show(5)"
      ],
      "metadata": {
        "colab": {
          "base_uri": "https://localhost:8080/"
        },
        "id": "ec9KyrKAlgK9",
        "outputId": "bdf29f98-48eb-4723-e488-d9bee0e5e867"
      },
      "execution_count": null,
      "outputs": [
        {
          "output_type": "stream",
          "name": "stdout",
          "text": [
            "+----+-------+-------------+--------------+--------------+--------------+-------+----------+\n",
            "|step| amount|oldbalanceOrg|newbalanceOrig|oldbalanceDest|newbalanceDest|isFraud|type_index|\n",
            "+----+-------+-------------+--------------+--------------+--------------+-------+----------+\n",
            "|   1|9839.64|     170136.0|     160296.36|           0.0|           0.0|      0|       1.0|\n",
            "|   1|1864.28|      21249.0|      19384.72|           0.0|           0.0|      0|       1.0|\n",
            "|   1|  181.0|        181.0|           0.0|           0.0|           0.0|      1|       3.0|\n",
            "+----+-------+-------------+--------------+--------------+--------------+-------+----------+\n",
            "only showing top 3 rows\n",
            "\n"
          ]
        }
      ]
    },
    {
      "cell_type": "markdown",
      "source": [
        "seperating target variable"
      ],
      "metadata": {
        "id": "HWmtjDnVR0jJ"
      }
    },
    {
      "cell_type": "code",
      "source": [
        "feat_col=[\"step\", \"amount\", \"oldbalanceOrg\", \"newbalanceOrig\",\"oldbalanceDest\",\"newbalanceDest\", \"type_index\"]\n",
        "fraud_Asmbl=VectorAssembler(inputCols=feat_col, outputCol=\"out_Fraud\")\n",
        "fraud_Add = fraud_Asmbl.transform(data_Select)\n",
        "fraud_Add.show(3)"
      ],
      "metadata": {
        "colab": {
          "base_uri": "https://localhost:8080/"
        },
        "id": "x1cGNeCPl7bG",
        "outputId": "67f96964-2cdc-451c-fb70-60f656cd71c7"
      },
      "execution_count": null,
      "outputs": [
        {
          "output_type": "stream",
          "name": "stdout",
          "text": [
            "+----+-------+-------------+--------------+--------------+--------------+-------+----------+--------------------+\n",
            "|step| amount|oldbalanceOrg|newbalanceOrig|oldbalanceDest|newbalanceDest|isFraud|type_index|           out_Fraud|\n",
            "+----+-------+-------------+--------------+--------------+--------------+-------+----------+--------------------+\n",
            "|   1|9839.64|     170136.0|     160296.36|           0.0|           0.0|      0|       1.0|[1.0,9839.64,1701...|\n",
            "|   1|1864.28|      21249.0|      19384.72|           0.0|           0.0|      0|       1.0|[1.0,1864.28,2124...|\n",
            "|   1|  181.0|        181.0|           0.0|           0.0|           0.0|      1|       3.0|[1.0,181.0,181.0,...|\n",
            "+----+-------+-------------+--------------+--------------+--------------+-------+----------+--------------------+\n",
            "only showing top 3 rows\n",
            "\n"
          ]
        }
      ]
    },
    {
      "cell_type": "markdown",
      "source": [
        "Scaling the data"
      ],
      "metadata": {
        "id": "4vt8W2VWn8EU"
      }
    },
    {
      "cell_type": "code",
      "source": [
        "fraud_Scaled = StandardScaler(inputCol=\"out_Fraud\", outputCol=\"scaled_fraud\")\n",
        "fraud_add2= fraud_Scaled.fit(fraud_Add).transform(fraud_Add)\n",
        "fraud_add2.show(3)"
      ],
      "metadata": {
        "colab": {
          "base_uri": "https://localhost:8080/"
        },
        "id": "mXnJ1SmZl7RE",
        "outputId": "0727d1de-6625-41d1-adbd-2d36299b28e2"
      },
      "execution_count": null,
      "outputs": [
        {
          "output_type": "stream",
          "name": "stdout",
          "text": [
            "+----+-------+-------------+--------------+--------------+--------------+-------+----------+--------------------+--------------------+\n",
            "|step| amount|oldbalanceOrg|newbalanceOrig|oldbalanceDest|newbalanceDest|isFraud|type_index|           out_Fraud|        scaled_fraud|\n",
            "+----+-------+-------------+--------------+--------------+--------------+-------+----------+--------------------+--------------------+\n",
            "|   1|9839.64|     170136.0|     160296.36|           0.0|           0.0|      0|       1.0|[1.0,9839.64,1701...|[0.00702582836891...|\n",
            "|   1|1864.28|      21249.0|      19384.72|           0.0|           0.0|      0|       1.0|[1.0,1864.28,2124...|[0.00702582836891...|\n",
            "|   1|  181.0|        181.0|           0.0|           0.0|           0.0|      1|       3.0|[1.0,181.0,181.0,...|[0.00702582836891...|\n",
            "+----+-------+-------------+--------------+--------------+--------------+-------+----------+--------------------+--------------------+\n",
            "only showing top 3 rows\n",
            "\n"
          ]
        }
      ]
    },
    {
      "cell_type": "code",
      "source": [
        "fraud_det_select=fraud_add2.select(\"scaled_fraud\", 'isFraud')\n",
        "fraud_det_select.show(5)\n",
        "fraud_det_select.describe().show(3, truncate=False)"
      ],
      "metadata": {
        "colab": {
          "base_uri": "https://localhost:8080/"
        },
        "id": "HC5dwj3qpSAU",
        "outputId": "4726ca40-318c-49c7-db97-728eb120a4b5"
      },
      "execution_count": null,
      "outputs": [
        {
          "output_type": "stream",
          "name": "stdout",
          "text": [
            "+--------------------+-------+\n",
            "|        scaled_fraud|isFraud|\n",
            "+--------------------+-------+\n",
            "|[0.00702582836891...|      0|\n",
            "|[0.00702582836891...|      0|\n",
            "|[0.00702582836891...|      1|\n",
            "+--------------------+-------+\n",
            "only showing top 3 rows\n",
            "\n",
            "+-------+--------------------+\n",
            "|summary|isFraud             |\n",
            "+-------+--------------------+\n",
            "|count  |6362620             |\n",
            "|mean   |0.001290820448180152|\n",
            "|stddev |0.035904796801604424|\n",
            "+-------+--------------------+\n",
            "only showing top 3 rows\n",
            "\n"
          ]
        }
      ]
    },
    {
      "cell_type": "code",
      "source": [
        "from pyspark.ml.evaluation import MulticlassClassificationEvaluator, BinaryClassificationEvaluator\n",
        "# model evaluation metics\n",
        "eval_1 = MulticlassClassificationEvaluator(labelCol=\"isFraud\", predictionCol=\"prediction\", metricName=\"accuracy\",)\n",
        "eval_2 = BinaryClassificationEvaluator(rawPredictionCol=\"rawPrediction\", labelCol=\"isFraud\", metricName=\"areaUnderROC\")\n",
        "eval_3 = MulticlassClassificationEvaluator(labelCol=\"isFraud\", predictionCol=\"prediction\", metricName=\"f1\")\n",
        "eval_4 = MulticlassClassificationEvaluator(labelCol=\"isFraud\", predictionCol=\"prediction\", metricName=\"weightedPrecision\")"
      ],
      "metadata": {
        "id": "wm24F6T8qEWR"
      },
      "execution_count": null,
      "outputs": []
    },
    {
      "cell_type": "markdown",
      "source": [
        "Splitting data"
      ],
      "metadata": {
        "id": "4bXVJd77qTJy"
      }
    },
    {
      "cell_type": "code",
      "source": [
        "train_data, test_data = fraud_det_select.randomSplit([.7,.3])"
      ],
      "metadata": {
        "id": "BS-IIw0BqEJy"
      },
      "execution_count": null,
      "outputs": []
    },
    {
      "cell_type": "markdown",
      "source": [
        "Random Forest"
      ],
      "metadata": {
        "id": "TKzsy0aj5Fxy"
      }
    },
    {
      "cell_type": "code",
      "source": [
        "from pyspark.ml.classification import RandomForestClassifier\n",
        "\n",
        "rf = RandomForestClassifier(labelCol=\"isFraud\", featuresCol=\"scaled_fraud\",predictionCol='prediction',numTrees= 15 ,maxDepth=15,)\n",
        "rf_fraud = rf.fit(train_data)"
      ],
      "metadata": {
        "id": "SVFUsq50qD6V"
      },
      "execution_count": null,
      "outputs": []
    },
    {
      "cell_type": "code",
      "source": [
        "rf_pred = rf_fraud.transform(test_data)\n",
        "rf_pred.show(5)"
      ],
      "metadata": {
        "colab": {
          "base_uri": "https://localhost:8080/"
        },
        "id": "VTjKvgMYygje",
        "outputId": "9ed95c3e-f836-4489-f239-e7f6c4f7914d"
      },
      "execution_count": null,
      "outputs": [
        {
          "output_type": "stream",
          "name": "stdout",
          "text": [
            "+--------------------+-------+--------------------+--------------------+----------+\n",
            "|        scaled_fraud|isFraud|       rawPrediction|         probability|prediction|\n",
            "+--------------------+-------+--------------------+--------------------+----------+\n",
            "|(7,[0,1],[0.07025...|      0|[14.9721148311699...|[0.99814098874466...|       0.0|\n",
            "|(7,[0,1],[0.09133...|      0|[14.9681921081641...|[0.99787947387760...|       0.0|\n",
            "|(7,[0,1],[0.12646...|      0|[14.9833028633118...|[0.99888685755412...|       0.0|\n",
            "|(7,[0,1],[0.12646...|      0|[14.9833028633118...|[0.99888685755412...|       0.0|\n",
            "|(7,[0,1],[0.28103...|      0|[14.9895881807116...|[0.99930587871411...|       0.0|\n",
            "+--------------------+-------+--------------------+--------------------+----------+\n",
            "only showing top 5 rows\n",
            "\n"
          ]
        }
      ]
    },
    {
      "cell_type": "code",
      "source": [
        "rf_acc1 = (eval_1.evaluate(rf_pred)*100)\n",
        "print(\"Test Accuracy: \", rf_acc1 ,'%')\n",
        "print(\"Test Error: \", (100-rf_acc1), '%')\n",
        "\n",
        "rf_acc2 = (eval_2.evaluate(rf_pred)*100)\n",
        "print(\"AOC:\", rf_acc2,'%')\n",
        "\n",
        "rf_acc3 = (eval_3.evaluate(rf_pred)*100)\n",
        "print(\"f1:\", rf_acc3,'%')\n",
        "\n",
        "rf_acc4 = (eval_4.evaluate(rf_pred)*100)\n",
        "print(\"weightedPrecision:\", rf_acc4,'%')"
      ],
      "metadata": {
        "colab": {
          "base_uri": "https://localhost:8080/"
        },
        "id": "mFR10Nt7zRA3",
        "outputId": "db091f96-5d98-4532-aa3e-3f8fba9f6b08"
      },
      "execution_count": null,
      "outputs": [
        {
          "output_type": "stream",
          "name": "stdout",
          "text": [
            "Test Accuracy:  99.96615208403085 %\n",
            "Test Error:  0.03384791596914738 %\n",
            "AOC: 99.80996709812983 %\n",
            "f1: 99.96403506136528 %\n",
            "weightedPrecision: 99.96536577364984 %\n"
          ]
        }
      ]
    },
    {
      "cell_type": "code",
      "source": [
        "cm_rf = rf_pred.groupBy(\"isFraud\").pivot(\"prediction\", [0.0, 1.0]).count().na.fill(0)\n",
        "print('Random Forest Confusion Matrix')\n",
        "cm_rf.show()"
      ],
      "metadata": {
        "colab": {
          "base_uri": "https://localhost:8080/"
        },
        "id": "utqcjjuUFcYe",
        "outputId": "238bb7d4-eb97-4329-936d-da70ec1fab46"
      },
      "execution_count": null,
      "outputs": [
        {
          "output_type": "stream",
          "name": "stdout",
          "text": [
            "Random Forest Confusion Matrix\n",
            "+-------+-------+----+\n",
            "|isFraud|    0.0| 1.0|\n",
            "+-------+-------+----+\n",
            "|      1|    593|1833|\n",
            "|      0|1906058|  53|\n",
            "+-------+-------+----+\n",
            "\n"
          ]
        }
      ]
    },
    {
      "cell_type": "markdown",
      "source": [
        "Support Vector Machines"
      ],
      "metadata": {
        "id": "56eJjpdw5I-E"
      }
    },
    {
      "cell_type": "code",
      "source": [
        "from pyspark.ml.classification import LinearSVC\n",
        "\n",
        "svm = LinearSVC(labelCol='isFraud',featuresCol='scaled_fraud',predictionCol='prediction', maxIter=100)\n",
        "svm_fraud = svm.fit(train_data)\n",
        "svm_pred = svm_fraud.transform(test_data)\n",
        "svm_pred.show(5, True)"
      ],
      "metadata": {
        "colab": {
          "base_uri": "https://localhost:8080/"
        },
        "id": "Pe2WmM0H3mVg",
        "outputId": "69faa95d-6325-43b9-f8b4-5a7fa0cf7c4e"
      },
      "execution_count": null,
      "outputs": [
        {
          "output_type": "stream",
          "name": "stdout",
          "text": [
            "+--------------------+-------+--------------------+----------+\n",
            "|        scaled_fraud|isFraud|       rawPrediction|prediction|\n",
            "+--------------------+-------+--------------------+----------+\n",
            "|(7,[0,1],[0.07025...|      0|[1.12330692811830...|       0.0|\n",
            "|(7,[0,1],[0.09133...|      0|[1.13632586637716...|       0.0|\n",
            "|(7,[0,1],[0.12646...|      0|[1.12758114641391...|       0.0|\n",
            "|(7,[0,1],[0.12646...|      0|[1.12479092123655...|       0.0|\n",
            "|(7,[0,1],[0.28103...|      0|[1.12380829189253...|       0.0|\n",
            "+--------------------+-------+--------------------+----------+\n",
            "only showing top 5 rows\n",
            "\n"
          ]
        }
      ]
    },
    {
      "cell_type": "code",
      "source": [
        "svm_acc1 = (eval_1.evaluate(svm_pred)*100)\n",
        "print(\"Test accuracy:\", svm_acc1,'%')\n",
        "print(\"Test Error: \", (100-svm_acc1), '%')\n",
        "\n",
        "svm_acc2 = (eval_2.evaluate(svm_pred)*100)\n",
        "print(\"AOC:\", svm_acc2,'%')\n",
        "\n",
        "svm_acc3 = (eval_3.evaluate(svm_pred)*100)\n",
        "print(\"f1:\", svm_acc3,'%')\n",
        "\n",
        "svm_acc4 = (eval_4.evaluate(svm_pred)*100)\n",
        "print(\"weightedPrecision:\", svm_acc4,'%')"
      ],
      "metadata": {
        "colab": {
          "base_uri": "https://localhost:8080/"
        },
        "id": "99fJqVOi36et",
        "outputId": "866abc7e-8853-47dd-c438-6ecbcd0240d1"
      },
      "execution_count": null,
      "outputs": [
        {
          "output_type": "stream",
          "name": "stdout",
          "text": [
            "Test accuracy: 99.87419683244286 %\n",
            "Test Error:  0.12580316755713739 %\n",
            "AOC: 82.42617090996114 %\n",
            "f1: 99.81261802222264 %\n",
            "weightedPrecision: 99.87435509888567 %\n"
          ]
        }
      ]
    },
    {
      "cell_type": "code",
      "source": [
        "cm_svm = svm_pred.groupBy(\"isFraud\").pivot(\"prediction\", [0.0, 1.0]).count().na.fill(0)\n",
        "print('svm Confusion Matrix')\n",
        "cm_svm.show()"
      ],
      "metadata": {
        "colab": {
          "base_uri": "https://localhost:8080/"
        },
        "id": "bOvUvvWPHsQp",
        "outputId": "ec867a55-798c-46b2-d77e-ca9402b0ac08"
      },
      "execution_count": null,
      "outputs": [
        {
          "output_type": "stream",
          "name": "stdout",
          "text": [
            "svm Confusion Matrix\n",
            "+-------+-------+---+\n",
            "|isFraud|    0.0|1.0|\n",
            "+-------+-------+---+\n",
            "|      1|   2401| 25|\n",
            "|      0|1906111|  0|\n",
            "+-------+-------+---+\n",
            "\n"
          ]
        }
      ]
    },
    {
      "cell_type": "markdown",
      "source": [
        "Naive Bayes"
      ],
      "metadata": {
        "id": "0jc4p7_J498o"
      }
    },
    {
      "cell_type": "code",
      "source": [
        "from pyspark.ml.classification import NaiveBayes\n",
        "\n",
        "nb = NaiveBayes(labelCol='isFraud',featuresCol='scaled_fraud',predictionCol='prediction')\n",
        "nb_fraud = nb.fit(train_data)\n",
        "\n",
        "nb_pred = nb_fraud.transform(test_data)\n",
        "nb_pred.show(5)"
      ],
      "metadata": {
        "colab": {
          "base_uri": "https://localhost:8080/"
        },
        "id": "VTwZywif1qhr",
        "outputId": "07f2705c-b188-4d13-df32-cd677c8c9f92"
      },
      "execution_count": null,
      "outputs": [
        {
          "output_type": "stream",
          "name": "stdout",
          "text": [
            "+--------------------+-------+--------------------+--------------------+----------+\n",
            "|        scaled_fraud|isFraud|       rawPrediction|         probability|prediction|\n",
            "+--------------------+-------+--------------------+--------------------+----------+\n",
            "|(7,[0,1],[0.07025...|      0|[-1.0779246838839...|[0.99771110697612...|       0.0|\n",
            "|(7,[0,1],[0.09133...|      0|[-0.1225151734792...|[0.99869170724959...|       0.0|\n",
            "|(7,[0,1],[0.12646...|      0|[-0.7166052228952...|[0.99820742026334...|       0.0|\n",
            "|(7,[0,1],[0.12646...|      0|[-0.9170016272766...|[0.99799038793911...|       0.0|\n",
            "|(7,[0,1],[0.28103...|      0|[-0.8381361356894...|[0.99827124370135...|       0.0|\n",
            "+--------------------+-------+--------------------+--------------------+----------+\n",
            "only showing top 5 rows\n",
            "\n"
          ]
        }
      ]
    },
    {
      "cell_type": "code",
      "source": [
        "nb_acc1 = (eval_1.evaluate(nb_pred)*100)\n",
        "print(\"Test accuracy:\" , nb_acc1, '%')\n",
        "print(\"Test Error: \", (100-nb_acc1), '%')\n",
        "\n",
        "nb_acc2 = (eval_2.evaluate(nb_pred)*100)\n",
        "print(\"AOC\", nb_acc2,'%')\n",
        "\n",
        "nb_acc3 = (eval_3.evaluate(nb_pred)*100)\n",
        "print(\"f1:\", nb_acc3,'%')\n",
        "\n",
        "nb_acc4 = (eval_4.evaluate(nb_pred)*100)\n",
        "print(\"weightedPrecision:\", nb_acc4,'%')"
      ],
      "metadata": {
        "colab": {
          "base_uri": "https://localhost:8080/"
        },
        "id": "k-jSLYm13Qxs",
        "outputId": "51c66c2b-7171-413f-a95d-c67033feea8b"
      },
      "execution_count": null,
      "outputs": [
        {
          "output_type": "stream",
          "name": "stdout",
          "text": [
            "Test accuracy: 99.6891860100171 %\n",
            "Test Error:  0.3108139899829041 %\n",
            "AOC 30.904380823023775 %\n",
            "f1: 99.73044645910518 %\n",
            "weightedPrecision: 99.77373428197801 %\n"
          ]
        }
      ]
    },
    {
      "cell_type": "code",
      "source": [
        "cm_nb = nb_pred.groupBy(\"isFraud\").pivot(\"prediction\", [0.0, 1.0]).count().na.fill(0)\n",
        "print('niave bayes Confusion Matrix')\n",
        "cm_nb.show()"
      ],
      "metadata": {
        "colab": {
          "base_uri": "https://localhost:8080/"
        },
        "id": "5aXtJgbDGQEP",
        "outputId": "89de1dc8-bb58-4a5c-8652-d85942866a7f"
      },
      "execution_count": null,
      "outputs": [
        {
          "output_type": "stream",
          "name": "stdout",
          "text": [
            "niave bayes Confusion Matrix\n",
            "+-------+-------+----+\n",
            "|isFraud|    0.0| 1.0|\n",
            "+-------+-------+----+\n",
            "|      1|   2087| 339|\n",
            "|      0|1902266|3845|\n",
            "+-------+-------+----+\n",
            "\n"
          ]
        }
      ]
    },
    {
      "cell_type": "markdown",
      "source": [
        "Logistic Regression"
      ],
      "metadata": {
        "id": "1bJDuIRj4upW"
      }
    },
    {
      "cell_type": "code",
      "source": [
        "from pyspark.ml.classification import LogisticRegression\n",
        "\n",
        "lr = LogisticRegression(labelCol='isFraud',featuresCol='scaled_fraud',predictionCol='prediction')\n",
        "lr_fraud = lr.fit(train_data)\n",
        "lr_pred = lr_fraud.transform(test_data)\n",
        "lr_pred.show(5)"
      ],
      "metadata": {
        "colab": {
          "base_uri": "https://localhost:8080/"
        },
        "id": "TFKX_u5o4pM5",
        "outputId": "04b158fb-89b4-435e-d71b-301eeed16629"
      },
      "execution_count": null,
      "outputs": [
        {
          "output_type": "stream",
          "name": "stdout",
          "text": [
            "+--------------------+-------+--------------------+--------------------+----------+\n",
            "|        scaled_fraud|isFraud|       rawPrediction|         probability|prediction|\n",
            "+--------------------+-------+--------------------+--------------------+----------+\n",
            "|(7,[0,1],[0.07025...|      0|[10.6390455320028...|[0.99997603867518...|       0.0|\n",
            "|(7,[0,1],[0.09133...|      0|[8.95540332059600...|[0.99987097860960...|       0.0|\n",
            "|(7,[0,1],[0.12646...|      0|[9.88741569403132...|[0.99994919249625...|       0.0|\n",
            "|(7,[0,1],[0.12646...|      0|[10.2300267879392...|[0.99996393049758...|       0.0|\n",
            "|(7,[0,1],[0.28103...|      0|[9.72698477534100...|[0.99994035167113...|       0.0|\n",
            "+--------------------+-------+--------------------+--------------------+----------+\n",
            "only showing top 5 rows\n",
            "\n"
          ]
        }
      ]
    },
    {
      "cell_type": "code",
      "source": [
        "lr_acc1 = (eval_1.evaluate(lr_pred)*100)\n",
        "print(\"Test accuracy:\", lr_acc1,'%')\n",
        "print(\"Test Error: \", (100-lr_acc1), '%')\n",
        "\n",
        "lr_acc2 = (eval_2.evaluate(lr_pred)*100)\n",
        "print(\"AOC:\", lr_acc2,'%')\n",
        "\n",
        "lr_acc3 = (eval_3.evaluate(lr_pred)*100)\n",
        "print(\"f1:\", lr_acc3,'%')\n",
        "\n",
        "lr_acc4 = (eval_4.evaluate(lr_pred)*100)\n",
        "print(\"weightedPrecision:\", lr_acc4,'%')"
      ],
      "metadata": {
        "colab": {
          "base_uri": "https://localhost:8080/"
        },
        "id": "X9j-aDGg452g",
        "outputId": "485455de-c4ed-40d8-fedb-968b11a76820"
      },
      "execution_count": null,
      "outputs": [
        {
          "output_type": "stream",
          "name": "stdout",
          "text": [
            "Test accuracy: 99.9260166294916 %\n",
            "Test Error:  0.07398337050840098 %\n",
            "AOC: 96.85218142505514 %\n",
            "f1: 99.91556135531849 %\n",
            "weightedPrecision: 99.91898310691276 %\n"
          ]
        }
      ]
    },
    {
      "cell_type": "code",
      "source": [
        "cm_lr = lr_pred.groupBy(\"isFraud\").pivot(\"prediction\", [0.0, 1.0]).count().na.fill(0)\n",
        "print('logistic regression Confusion Matrix')\n",
        "cm_lr.show()"
      ],
      "metadata": {
        "colab": {
          "base_uri": "https://localhost:8080/"
        },
        "id": "cm1G6YoyICtz",
        "outputId": "94a64c79-74e6-4c28-d80c-e5cbb676722f"
      },
      "execution_count": null,
      "outputs": [
        {
          "output_type": "stream",
          "name": "stdout",
          "text": [
            "logistic regression Confusion Matrix\n",
            "+-------+-------+----+\n",
            "|isFraud|    0.0| 1.0|\n",
            "+-------+-------+----+\n",
            "|      1|   1241|1185|\n",
            "|      0|1905940| 171|\n",
            "+-------+-------+----+\n",
            "\n"
          ]
        }
      ]
    },
    {
      "cell_type": "code",
      "source": [],
      "metadata": {
        "id": "mCxD9KHxdIOz"
      },
      "execution_count": null,
      "outputs": []
    }
  ],
  "metadata": {
    "colab": {
      "provenance": [],
      "include_colab_link": true
    },
    "kernelspec": {
      "display_name": "Python 3 (ipykernel)",
      "language": "python",
      "name": "python3"
    },
    "language_info": {
      "codemirror_mode": {
        "name": "ipython",
        "version": 3
      },
      "file_extension": ".py",
      "mimetype": "text/x-python",
      "name": "python",
      "nbconvert_exporter": "python",
      "pygments_lexer": "ipython3",
      "version": "3.8.16"
    }
  },
  "nbformat": 4,
  "nbformat_minor": 0
}